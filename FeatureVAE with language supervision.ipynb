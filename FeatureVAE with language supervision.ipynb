{
 "cells": [
  {
   "cell_type": "code",
   "execution_count": 1,
   "metadata": {
    "scrolled": true
   },
   "outputs": [
    {
     "name": "stderr",
     "output_type": "stream",
     "text": [
      "/Users/thomas/anaconda3/lib/python3.8/site-packages/pandas/core/computation/expressions.py:20: UserWarning: Pandas requires version '2.7.3' or newer of 'numexpr' (version '2.7.1' currently installed).\n",
      "  from pandas.core.computation.check import NUMEXPR_INSTALLED\n"
     ]
    }
   ],
   "source": [
    "import torch\n",
    "import torch.nn as nn\n",
    "import torch.nn.functional as F\n",
    "from torchvision import transforms\n",
    "\n",
    "from feature_vae import FeatureVAE\n",
    "from FVAE_helper import GradientReversalLayer, SimpleRegressor\n",
    "\n",
    "import pandas as pd\n",
    "import numpy as np\n",
    "import matplotlib.pyplot as plt\n",
    "from tqdm import tqdm\n",
    "\n",
    "from sklearn.model_selection import train_test_split\n",
    "\n",
    "from encoders import USEEncode, CLIPEncode, W2VEncode"
   ]
  },
  {
   "cell_type": "code",
   "execution_count": 2,
   "metadata": {},
   "outputs": [],
   "source": [
    "non_given_dims = 12\n",
    "\n",
    "rgb_supervise = False\n",
    "rgb_supervise_start_epoch = 2\n",
    "rgb_lambda = 2\n",
    "    \n",
    "    \n",
    "adversarial_supervise = True\n",
    "adversarial_lambda = 30\n",
    "adversarial_target_language = True\n",
    "adversarial_extra_train = 5\n",
    "\n",
    "extra_reducer = False\n",
    "extra_reducer_dim = 4\n",
    "\n",
    "encoder_class = CLIPEncode\n",
    "encoder_prompt = 'a {} colored shape'\n",
    "encoder_model = None\n",
    "\n",
    "beta = 1.0\n",
    "\n",
    "num_epochs = 50\n",
    "batch_size = 64\n",
    "gradient_accumulation_steps = 1\n",
    "lr = 1e-3\n",
    "grad_clip = 1.0\n",
    "\n",
    "updates_per_epoch = 1\n",
    "num_displays = 3"
   ]
  },
  {
   "cell_type": "code",
   "execution_count": 3,
   "metadata": {},
   "outputs": [],
   "source": [
    "rand_state = 420\n",
    "\n",
    "torch.manual_seed(rand_state)\n",
    "np.random.seed(rand_state)"
   ]
  },
  {
   "cell_type": "code",
   "execution_count": 4,
   "metadata": {},
   "outputs": [
    {
     "data": {
      "text/plain": [
       "device(type='cpu')"
      ]
     },
     "execution_count": 4,
     "metadata": {},
     "output_type": "execute_result"
    }
   ],
   "source": [
    "device = torch.device(\"cuda\" if torch.cuda.is_available() else \"cpu\")\n",
    "device"
   ]
  },
  {
   "cell_type": "code",
   "execution_count": 5,
   "metadata": {},
   "outputs": [
    {
     "data": {
      "text/html": [
       "<div>\n",
       "<style scoped>\n",
       "    .dataframe tbody tr th:only-of-type {\n",
       "        vertical-align: middle;\n",
       "    }\n",
       "\n",
       "    .dataframe tbody tr th {\n",
       "        vertical-align: top;\n",
       "    }\n",
       "\n",
       "    .dataframe thead th {\n",
       "        text-align: right;\n",
       "    }\n",
       "</style>\n",
       "<table border=\"1\" class=\"dataframe\">\n",
       "  <thead>\n",
       "    <tr style=\"text-align: right;\">\n",
       "      <th></th>\n",
       "      <th>shape</th>\n",
       "      <th>color</th>\n",
       "      <th>r</th>\n",
       "      <th>g</th>\n",
       "      <th>b</th>\n",
       "      <th>wscale</th>\n",
       "      <th>hscale</th>\n",
       "      <th>rotation</th>\n",
       "      <th>skew</th>\n",
       "      <th>xcenter</th>\n",
       "      <th>ycenter</th>\n",
       "      <th>hatch</th>\n",
       "      <th>shadow</th>\n",
       "    </tr>\n",
       "  </thead>\n",
       "  <tbody>\n",
       "    <tr>\n",
       "      <th>0</th>\n",
       "      <td>pentagon</td>\n",
       "      <td>deep teal</td>\n",
       "      <td>0.000000</td>\n",
       "      <td>0.333333</td>\n",
       "      <td>0.352941</td>\n",
       "      <td>1.000000</td>\n",
       "      <td>1.000000</td>\n",
       "      <td>0.000000</td>\n",
       "      <td>0.0</td>\n",
       "      <td>0.000000</td>\n",
       "      <td>0.000000</td>\n",
       "      <td>NaN</td>\n",
       "      <td>False</td>\n",
       "    </tr>\n",
       "    <tr>\n",
       "      <th>1</th>\n",
       "      <td>pentagon</td>\n",
       "      <td>ruby</td>\n",
       "      <td>0.792157</td>\n",
       "      <td>0.003922</td>\n",
       "      <td>0.278431</td>\n",
       "      <td>1.443060</td>\n",
       "      <td>1.443060</td>\n",
       "      <td>176.249624</td>\n",
       "      <td>0.0</td>\n",
       "      <td>12.474021</td>\n",
       "      <td>22.318936</td>\n",
       "      <td>NaN</td>\n",
       "      <td>False</td>\n",
       "    </tr>\n",
       "    <tr>\n",
       "      <th>2</th>\n",
       "      <td>rectangle</td>\n",
       "      <td>indigo blue</td>\n",
       "      <td>0.227451</td>\n",
       "      <td>0.094118</td>\n",
       "      <td>0.694118</td>\n",
       "      <td>1.144956</td>\n",
       "      <td>1.416463</td>\n",
       "      <td>0.000000</td>\n",
       "      <td>0.0</td>\n",
       "      <td>0.000000</td>\n",
       "      <td>0.000000</td>\n",
       "      <td>NaN</td>\n",
       "      <td>False</td>\n",
       "    </tr>\n",
       "    <tr>\n",
       "      <th>3</th>\n",
       "      <td>pentagon</td>\n",
       "      <td>maize</td>\n",
       "      <td>0.956863</td>\n",
       "      <td>0.815686</td>\n",
       "      <td>0.329412</td>\n",
       "      <td>1.000000</td>\n",
       "      <td>1.000000</td>\n",
       "      <td>0.000000</td>\n",
       "      <td>0.0</td>\n",
       "      <td>0.000000</td>\n",
       "      <td>0.000000</td>\n",
       "      <td>NaN</td>\n",
       "      <td>False</td>\n",
       "    </tr>\n",
       "    <tr>\n",
       "      <th>4</th>\n",
       "      <td>rectangle</td>\n",
       "      <td>wine</td>\n",
       "      <td>0.501961</td>\n",
       "      <td>0.003922</td>\n",
       "      <td>0.247059</td>\n",
       "      <td>1.000000</td>\n",
       "      <td>1.000000</td>\n",
       "      <td>0.000000</td>\n",
       "      <td>0.0</td>\n",
       "      <td>-2.050478</td>\n",
       "      <td>29.824324</td>\n",
       "      <td>-</td>\n",
       "      <td>False</td>\n",
       "    </tr>\n",
       "  </tbody>\n",
       "</table>\n",
       "</div>"
      ],
      "text/plain": [
       "       shape        color         r         g         b    wscale    hscale  \\\n",
       "0   pentagon    deep teal  0.000000  0.333333  0.352941  1.000000  1.000000   \n",
       "1   pentagon         ruby  0.792157  0.003922  0.278431  1.443060  1.443060   \n",
       "2  rectangle  indigo blue  0.227451  0.094118  0.694118  1.144956  1.416463   \n",
       "3   pentagon        maize  0.956863  0.815686  0.329412  1.000000  1.000000   \n",
       "4  rectangle         wine  0.501961  0.003922  0.247059  1.000000  1.000000   \n",
       "\n",
       "     rotation  skew    xcenter    ycenter hatch  shadow  \n",
       "0    0.000000   0.0   0.000000   0.000000   NaN   False  \n",
       "1  176.249624   0.0  12.474021  22.318936   NaN   False  \n",
       "2    0.000000   0.0   0.000000   0.000000   NaN   False  \n",
       "3    0.000000   0.0   0.000000   0.000000   NaN   False  \n",
       "4    0.000000   0.0  -2.050478  29.824324     -   False  "
      ]
     },
     "execution_count": 5,
     "metadata": {},
     "output_type": "execute_result"
    }
   ],
   "source": [
    "shapes_meta = pd.read_csv('shapes.csv')\n",
    "shapes_meta.head()"
   ]
  },
  {
   "cell_type": "code",
   "execution_count": 6,
   "metadata": {},
   "outputs": [
    {
     "data": {
      "text/plain": [
       "torch.Size([20000, 3, 64, 64])"
      ]
     },
     "execution_count": 6,
     "metadata": {},
     "output_type": "execute_result"
    }
   ],
   "source": [
    "resize = transforms.Resize(64)\n",
    "shapes = resize(torch.load('shapes.pt').permute(0, 3, 1, 2) / 255)\n",
    "del resize\n",
    "shapes.shape"
   ]
  },
  {
   "cell_type": "code",
   "execution_count": 7,
   "metadata": {
    "scrolled": true
   },
   "outputs": [
    {
     "data": {
      "text/plain": [
       "<matplotlib.image.AxesImage at 0x7faa9361a1f0>"
      ]
     },
     "execution_count": 7,
     "metadata": {},
     "output_type": "execute_result"
    },
    {
     "data": {
      "image/png": "[encoded data removed]",
      "text/plain": [
       "<Figure size 432x288 with 1 Axes>"
      ]
     },
     "metadata": {
      "needs_background": "light"
     },
     "output_type": "display_data"
    }
   ],
   "source": [
    "plt.imshow(shapes[0].permute(1, 2, 0).cpu())"
   ]
  },
  {
   "cell_type": "code",
   "execution_count": 8,
   "metadata": {},
   "outputs": [],
   "source": [
    "train, valid = train_test_split(shapes, test_size=0.1, random_state=rand_state)\n",
    "train_meta, valid_meta = train_test_split(shapes_meta, test_size=0.1, random_state=rand_state)\n",
    "del shapes"
   ]
  },
  {
   "cell_type": "code",
   "execution_count": 9,
   "metadata": {},
   "outputs": [],
   "source": [
    "train_color_rgb = torch.FloatTensor(train_meta.iloc[:, 2:5].values)\n",
    "valid_color_rgb = torch.FloatTensor(valid_meta.iloc[:, 2:5].values)"
   ]
  },
  {
   "cell_type": "code",
   "execution_count": 24,
   "metadata": {},
   "outputs": [
    {
     "data": {
      "text/plain": [
       "True"
      ]
     },
     "execution_count": 24,
     "metadata": {},
     "output_type": "execute_result"
    }
   ],
   "source": [
    "encoder_class is CLIPEncode"
   ]
  },
  {
   "cell_type": "code",
   "execution_count": 10,
   "metadata": {},
   "outputs": [
    {
     "name": "stderr",
     "output_type": "stream",
     "text": [
      "100%|██████████| 90/90 [28:18<00:00, 18.87s/it]\n",
      "100%|██████████| 10/10 [03:07<00:00, 18.74s/it]\n"
     ]
    }
   ],
   "source": [
    "if encoder_class is CLIPEncode:\n",
    "    train_meta = torch.load('shapes_clip.pt')\n",
    "    train_meta, valid_meta = train_meta[:18000], train_meta[18000:]\n",
    "else:\n",
    "    text_encoder = encoder_class(encoder_model, encoder_prompt)\n",
    "\n",
    "    train_meta = text_encoder.encode(train_meta)\n",
    "    valid_meta = text_encoder.encode(valid_meta)"
   ]
  },
  {
   "cell_type": "code",
   "execution_count": 11,
   "metadata": {
    "scrolled": true
   },
   "outputs": [
    {
     "data": {
      "text/plain": [
       "torch.Size([18000, 512])"
      ]
     },
     "execution_count": 11,
     "metadata": {},
     "output_type": "execute_result"
    }
   ],
   "source": [
    "train_meta.shape"
   ]
  },
  {
   "cell_type": "code",
   "execution_count": 12,
   "metadata": {},
   "outputs": [],
   "source": [
    "# from sklearn.decomposition import KernelPCA, PCA\n",
    "# dim_reducer = KernelPCA(n_components=200, kernel='cosine') #rbf, cosine, poly, linear\n",
    "# # dim_reducer = PCA(n_components=100\n",
    "# train_meta = torch.FloatTensor(dim_reducer.fit_transform(train_meta))\n",
    "# valid_meta = torch.FloatTensor(dim_reducer.transform(valid_meta))\n",
    "# train_meta.shape"
   ]
  },
  {
   "cell_type": "code",
   "execution_count": 13,
   "metadata": {},
   "outputs": [
    {
     "data": {
      "text/plain": [
       "512"
      ]
     },
     "execution_count": 13,
     "metadata": {},
     "output_type": "execute_result"
    }
   ],
   "source": [
    "num_features = train_meta.size(1)\n",
    "num_features"
   ]
  },
  {
   "cell_type": "code",
   "execution_count": 14,
   "metadata": {},
   "outputs": [],
   "source": [
    "# Does pretty good:\n",
    "# adversarial_supervise = True\n",
    "# adversarial_lambda = 20\n",
    "# adversarial_target_language = False\n",
    "# non_given_dims = 12, beta=1.0\n",
    "# no grad clipping ? "
   ]
  },
  {
   "cell_type": "code",
   "execution_count": 15,
   "metadata": {},
   "outputs": [],
   "source": [
    "from torch.utils.data import Dataset\n",
    "\n",
    "bce_loss = nn.BCELoss(reduction='sum')\n",
    "mse_loss = nn.MSELoss()\n",
    "def vae_loss(x, mu, var, recon, beta):\n",
    "    recon_loss = bce_loss(recon, x)\n",
    "    kl = -torch.sum(1 + var - torch.pow(mu, 2) - torch.exp(var)) / 2\n",
    "    return (recon_loss + beta * kl) / x.size(0)\n",
    "\n",
    "class DatasetWrapper(Dataset):\n",
    "    def __init__(self, imgs, latent_supervision, rgb):\n",
    "        self.imgs = imgs\n",
    "        self.latent_supervision = latent_supervision\n",
    "        self.rgb = rgb\n",
    "    def __len__(self):\n",
    "        return len(self.imgs)\n",
    "    def __getitem__(self, idx):\n",
    "        return self.imgs[idx].to(device), self.latent_supervision[idx].to(device), self.rgb[idx].to(device)"
   ]
  },
  {
   "cell_type": "code",
   "execution_count": 16,
   "metadata": {
    "scrolled": true
   },
   "outputs": [
    {
     "name": "stderr",
     "output_type": "stream",
     "text": [
      "Epoch 1: 100%|█████████▉| 281/282 [02:40<00:00,  1.74it/s]"
     ]
    },
    {
     "data": {
      "image/png": "[encoded data removed]",
      "text/plain": [
       "<Figure size 720x288 with 12 Axes>"
      ]
     },
     "metadata": {
      "needs_background": "light"
     },
     "output_type": "display_data"
    },
    {
     "name": "stderr",
     "output_type": "stream",
     "text": [
      "Epoch 1 | train loss 3370585197247019876352.00 | valid loss inf: 100%|██████████| 282/282 [02:44<00:00,  1.72it/s]\n",
      "Epoch 2: 100%|█████████▉| 281/282 [02:41<00:00,  1.73it/s]"
     ]
    },
    {
     "data": {
      "image/png": "[encoded data removed]",
      "text/plain": [
       "<Figure size 720x288 with 12 Axes>"
      ]
     },
     "metadata": {
      "needs_background": "light"
     },
     "output_type": "display_data"
    },
    {
     "name": "stderr",
     "output_type": "stream",
     "text": [
      "Epoch 2 | train loss 261385279411497326104312545280.00 | valid loss inf: 100%|██████████| 282/282 [02:44<00:00,  1.71it/s]\n",
      "Epoch 3: 100%|█████████▉| 281/282 [02:47<00:00,  1.73it/s]"
     ]
    },
    {
     "data": {
      "image/png": "[encoded data removed]",
      "text/plain": [
       "<Figure size 720x288 with 12 Axes>"
      ]
     },
     "metadata": {
      "needs_background": "light"
     },
     "output_type": "display_data"
    },
    {
     "name": "stderr",
     "output_type": "stream",
     "text": [
      "Epoch 3 | train loss 2523885859600913784587274944512.00 | valid loss inf: 100%|██████████| 282/282 [02:50<00:00,  1.65it/s]\n",
      "Epoch 4:  87%|████████▋ | 246/282 [02:22<00:23,  1.54it/s]"
     ]
    },
    {
     "name": "stdout",
     "output_type": "stream",
     "text": [
      "tensor(1.)\n",
      "tensor(nan, grad_fn=<MaxBackward1>)\n"
     ]
    },
    {
     "name": "stderr",
     "output_type": "stream",
     "text": [
      "\r",
      "Epoch 4:  88%|████████▊ | 247/282 [02:22<00:20,  1.67it/s]"
     ]
    },
    {
     "name": "stdout",
     "output_type": "stream",
     "text": [
      "tensor(1.)\n",
      "tensor(nan, grad_fn=<MaxBackward1>)\n"
     ]
    },
    {
     "name": "stderr",
     "output_type": "stream",
     "text": [
      "\r",
      "Epoch 4:  88%|████████▊ | 248/282 [02:23<00:19,  1.77it/s]"
     ]
    },
    {
     "name": "stdout",
     "output_type": "stream",
     "text": [
      "tensor(1.)\n",
      "tensor(nan, grad_fn=<MaxBackward1>)\n"
     ]
    },
    {
     "name": "stderr",
     "output_type": "stream",
     "text": [
      "\r",
      "Epoch 4:  88%|████████▊ | 249/282 [02:23<00:18,  1.83it/s]"
     ]
    },
    {
     "name": "stdout",
     "output_type": "stream",
     "text": [
      "tensor(1.)\n",
      "tensor(nan, grad_fn=<MaxBackward1>)\n"
     ]
    },
    {
     "name": "stderr",
     "output_type": "stream",
     "text": [
      "\r",
      "Epoch 4:  89%|████████▊ | 250/282 [02:24<00:17,  1.88it/s]"
     ]
    },
    {
     "name": "stdout",
     "output_type": "stream",
     "text": [
      "tensor(1.)\n",
      "tensor(nan, grad_fn=<MaxBackward1>)\n"
     ]
    },
    {
     "name": "stderr",
     "output_type": "stream",
     "text": [
      "\r",
      "Epoch 4:  89%|████████▉ | 251/282 [02:24<00:16,  1.92it/s]"
     ]
    },
    {
     "name": "stdout",
     "output_type": "stream",
     "text": [
      "tensor(1.)\n",
      "tensor(nan, grad_fn=<MaxBackward1>)\n"
     ]
    },
    {
     "name": "stderr",
     "output_type": "stream",
     "text": [
      "\r",
      "Epoch 4:  89%|████████▉ | 252/282 [02:25<00:15,  1.95it/s]"
     ]
    },
    {
     "name": "stdout",
     "output_type": "stream",
     "text": [
      "tensor(1.)\n",
      "tensor(nan, grad_fn=<MaxBackward1>)\n"
     ]
    },
    {
     "name": "stderr",
     "output_type": "stream",
     "text": [
      "\r",
      "Epoch 4:  90%|████████▉ | 253/282 [02:25<00:14,  1.99it/s]"
     ]
    },
    {
     "name": "stdout",
     "output_type": "stream",
     "text": [
      "tensor(1.)\n",
      "tensor(nan, grad_fn=<MaxBackward1>)\n"
     ]
    },
    {
     "name": "stderr",
     "output_type": "stream",
     "text": [
      "\r",
      "Epoch 4:  90%|█████████ | 254/282 [02:26<00:13,  2.00it/s]"
     ]
    },
    {
     "name": "stdout",
     "output_type": "stream",
     "text": [
      "tensor(1.)\n",
      "tensor(nan, grad_fn=<MaxBackward1>)\n"
     ]
    },
    {
     "name": "stderr",
     "output_type": "stream",
     "text": [
      "\r",
      "Epoch 4:  90%|█████████ | 255/282 [02:26<00:13,  1.98it/s]"
     ]
    },
    {
     "name": "stdout",
     "output_type": "stream",
     "text": [
      "tensor(1.)\n",
      "tensor(nan, grad_fn=<MaxBackward1>)\n"
     ]
    },
    {
     "name": "stderr",
     "output_type": "stream",
     "text": [
      "\r",
      "Epoch 4:  91%|█████████ | 256/282 [02:27<00:13,  1.97it/s]"
     ]
    },
    {
     "name": "stdout",
     "output_type": "stream",
     "text": [
      "tensor(1.)\n",
      "tensor(nan, grad_fn=<MaxBackward1>)\n"
     ]
    },
    {
     "name": "stderr",
     "output_type": "stream",
     "text": [
      "\r",
      "Epoch 4:  91%|█████████ | 257/282 [02:27<00:12,  1.99it/s]"
     ]
    },
    {
     "name": "stdout",
     "output_type": "stream",
     "text": [
      "tensor(1.)\n",
      "tensor(nan, grad_fn=<MaxBackward1>)\n"
     ]
    },
    {
     "name": "stderr",
     "output_type": "stream",
     "text": [
      "\r",
      "Epoch 4:  91%|█████████▏| 258/282 [02:28<00:12,  1.99it/s]"
     ]
    },
    {
     "name": "stdout",
     "output_type": "stream",
     "text": [
      "tensor(1.)\n",
      "tensor(nan, grad_fn=<MaxBackward1>)\n"
     ]
    },
    {
     "name": "stderr",
     "output_type": "stream",
     "text": [
      "\r",
      "Epoch 4:  92%|█████████▏| 259/282 [02:28<00:11,  2.01it/s]"
     ]
    },
    {
     "name": "stdout",
     "output_type": "stream",
     "text": [
      "tensor(1.)\n",
      "tensor(nan, grad_fn=<MaxBackward1>)\n"
     ]
    },
    {
     "name": "stderr",
     "output_type": "stream",
     "text": [
      "\r",
      "Epoch 4:  92%|█████████▏| 260/282 [02:29<00:10,  2.01it/s]"
     ]
    },
    {
     "name": "stdout",
     "output_type": "stream",
     "text": [
      "tensor(1.)\n",
      "tensor(nan, grad_fn=<MaxBackward1>)\n"
     ]
    },
    {
     "name": "stderr",
     "output_type": "stream",
     "text": [
      "\r",
      "Epoch 4:  93%|█████████▎| 261/282 [02:29<00:10,  2.01it/s]"
     ]
    },
    {
     "name": "stdout",
     "output_type": "stream",
     "text": [
      "tensor(1.)\n",
      "tensor(nan, grad_fn=<MaxBackward1>)\n"
     ]
    },
    {
     "name": "stderr",
     "output_type": "stream",
     "text": [
      "\r",
      "Epoch 4:  93%|█████████▎| 262/282 [02:30<00:09,  2.03it/s]"
     ]
    },
    {
     "name": "stdout",
     "output_type": "stream",
     "text": [
      "tensor(1.)\n",
      "tensor(nan, grad_fn=<MaxBackward1>)\n"
     ]
    },
    {
     "name": "stderr",
     "output_type": "stream",
     "text": [
      "\r",
      "Epoch 4:  93%|█████████▎| 263/282 [02:30<00:09,  2.01it/s]"
     ]
    },
    {
     "name": "stdout",
     "output_type": "stream",
     "text": [
      "tensor(1.)\n",
      "tensor(nan, grad_fn=<MaxBackward1>)\n"
     ]
    },
    {
     "name": "stderr",
     "output_type": "stream",
     "text": [
      "\r",
      "Epoch 4:  94%|█████████▎| 264/282 [02:31<00:08,  2.02it/s]"
     ]
    },
    {
     "name": "stdout",
     "output_type": "stream",
     "text": [
      "tensor(1.)\n",
      "tensor(nan, grad_fn=<MaxBackward1>)\n"
     ]
    },
    {
     "name": "stderr",
     "output_type": "stream",
     "text": [
      "\r",
      "Epoch 4:  94%|█████████▍| 265/282 [02:31<00:08,  1.99it/s]"
     ]
    },
    {
     "name": "stdout",
     "output_type": "stream",
     "text": [
      "tensor(1.)\n",
      "tensor(nan, grad_fn=<MaxBackward1>)\n"
     ]
    },
    {
     "name": "stderr",
     "output_type": "stream",
     "text": [
      "\r",
      "Epoch 4:  94%|█████████▍| 266/282 [02:32<00:08,  2.00it/s]"
     ]
    },
    {
     "name": "stdout",
     "output_type": "stream",
     "text": [
      "tensor(1.)\n",
      "tensor(nan, grad_fn=<MaxBackward1>)\n"
     ]
    },
    {
     "name": "stderr",
     "output_type": "stream",
     "text": [
      "\r",
      "Epoch 4:  95%|█████████▍| 267/282 [02:32<00:07,  2.02it/s]"
     ]
    },
    {
     "name": "stdout",
     "output_type": "stream",
     "text": [
      "tensor(1.)\n",
      "tensor(nan, grad_fn=<MaxBackward1>)\n"
     ]
    },
    {
     "name": "stderr",
     "output_type": "stream",
     "text": [
      "\r",
      "Epoch 4:  95%|█████████▌| 268/282 [02:33<00:06,  2.00it/s]"
     ]
    },
    {
     "name": "stdout",
     "output_type": "stream",
     "text": [
      "tensor(1.)\n",
      "tensor(nan, grad_fn=<MaxBackward1>)\n"
     ]
    },
    {
     "name": "stderr",
     "output_type": "stream",
     "text": [
      "\r",
      "Epoch 4:  95%|█████████▌| 269/282 [02:33<00:06,  2.01it/s]"
     ]
    },
    {
     "name": "stdout",
     "output_type": "stream",
     "text": [
      "tensor(1.)\n",
      "tensor(nan, grad_fn=<MaxBackward1>)\n"
     ]
    },
    {
     "name": "stderr",
     "output_type": "stream",
     "text": [
      "\r",
      "Epoch 4:  96%|█████████▌| 270/282 [02:34<00:05,  2.01it/s]"
     ]
    },
    {
     "name": "stdout",
     "output_type": "stream",
     "text": [
      "tensor(1.)\n",
      "tensor(nan, grad_fn=<MaxBackward1>)\n"
     ]
    },
    {
     "name": "stderr",
     "output_type": "stream",
     "text": [
      "\r",
      "Epoch 4:  96%|█████████▌| 271/282 [02:34<00:05,  2.01it/s]"
     ]
    },
    {
     "name": "stdout",
     "output_type": "stream",
     "text": [
      "tensor(1.)\n",
      "tensor(nan, grad_fn=<MaxBackward1>)\n"
     ]
    },
    {
     "name": "stderr",
     "output_type": "stream",
     "text": [
      "\r",
      "Epoch 4:  96%|█████████▋| 272/282 [02:35<00:05,  1.99it/s]"
     ]
    },
    {
     "name": "stdout",
     "output_type": "stream",
     "text": [
      "tensor(1.)\n",
      "tensor(nan, grad_fn=<MaxBackward1>)\n"
     ]
    },
    {
     "name": "stderr",
     "output_type": "stream",
     "text": [
      "\r",
      "Epoch 4:  97%|█████████▋| 273/282 [02:35<00:04,  1.99it/s]"
     ]
    },
    {
     "name": "stdout",
     "output_type": "stream",
     "text": [
      "tensor(1.)\n",
      "tensor(nan, grad_fn=<MaxBackward1>)\n"
     ]
    },
    {
     "name": "stderr",
     "output_type": "stream",
     "text": [
      "\r",
      "Epoch 4:  97%|█████████▋| 274/282 [02:36<00:04,  2.00it/s]"
     ]
    },
    {
     "name": "stdout",
     "output_type": "stream",
     "text": [
      "tensor(1.)\n",
      "tensor(nan, grad_fn=<MaxBackward1>)\n"
     ]
    },
    {
     "name": "stderr",
     "output_type": "stream",
     "text": [
      "\r",
      "Epoch 4:  98%|█████████▊| 275/282 [02:36<00:03,  1.98it/s]"
     ]
    },
    {
     "name": "stdout",
     "output_type": "stream",
     "text": [
      "tensor(1.)\n",
      "tensor(nan, grad_fn=<MaxBackward1>)\n"
     ]
    },
    {
     "name": "stderr",
     "output_type": "stream",
     "text": [
      "\r",
      "Epoch 4:  98%|█████████▊| 276/282 [02:37<00:02,  2.01it/s]"
     ]
    },
    {
     "name": "stdout",
     "output_type": "stream",
     "text": [
      "tensor(1.)\n",
      "tensor(nan, grad_fn=<MaxBackward1>)\n"
     ]
    },
    {
     "name": "stderr",
     "output_type": "stream",
     "text": [
      "\r",
      "Epoch 4:  98%|█████████▊| 277/282 [02:37<00:02,  2.02it/s]"
     ]
    },
    {
     "name": "stdout",
     "output_type": "stream",
     "text": [
      "tensor(1.)\n",
      "tensor(nan, grad_fn=<MaxBackward1>)\n"
     ]
    },
    {
     "name": "stderr",
     "output_type": "stream",
     "text": [
      "\r",
      "Epoch 4:  99%|█████████▊| 278/282 [02:38<00:01,  2.02it/s]"
     ]
    },
    {
     "name": "stdout",
     "output_type": "stream",
     "text": [
      "tensor(1.)\n",
      "tensor(nan, grad_fn=<MaxBackward1>)\n"
     ]
    },
    {
     "name": "stderr",
     "output_type": "stream",
     "text": [
      "\r",
      "Epoch 4:  99%|█████████▉| 279/282 [02:38<00:01,  2.00it/s]"
     ]
    },
    {
     "name": "stdout",
     "output_type": "stream",
     "text": [
      "tensor(1.)\n",
      "tensor(nan, grad_fn=<MaxBackward1>)\n"
     ]
    },
    {
     "name": "stderr",
     "output_type": "stream",
     "text": [
      "\r",
      "Epoch 4:  99%|█████████▉| 280/282 [02:39<00:00,  2.00it/s]"
     ]
    },
    {
     "name": "stdout",
     "output_type": "stream",
     "text": [
      "tensor(1.)\n",
      "tensor(nan, grad_fn=<MaxBackward1>)\n"
     ]
    },
    {
     "name": "stderr",
     "output_type": "stream",
     "text": [
      "\r",
      "Epoch 4: 100%|█████████▉| 281/282 [02:39<00:00,  1.98it/s]"
     ]
    },
    {
     "name": "stdout",
     "output_type": "stream",
     "text": [
      "tensor(1.)\n",
      "tensor(nan, grad_fn=<MaxBackward1>)\n"
     ]
    },
    {
     "name": "stderr",
     "output_type": "stream",
     "text": [
      "\r",
      "Epoch 4: 100%|█████████▉| 281/282 [02:39<00:00,  1.76it/s]"
     ]
    },
    {
     "name": "stdout",
     "output_type": "stream",
     "text": [
      "tensor(1.)\n",
      "tensor(nan, grad_fn=<MaxBackward1>)\n"
     ]
    },
    {
     "name": "stderr",
     "output_type": "stream",
     "text": [
      "\n"
     ]
    },
    {
     "ename": "RuntimeError",
     "evalue": "all elements of input should be between 0 and 1",
     "output_type": "error",
     "traceback": [
      "\u001b[0;31m---------------------------------------------------------------------------\u001b[0m",
      "\u001b[0;31mRuntimeError\u001b[0m                              Traceback (most recent call last)",
      "\u001b[0;32m<ipython-input-16-13eaea37416d>\u001b[0m in \u001b[0;36m<module>\u001b[0;34m\u001b[0m\n\u001b[1;32m    144\u001b[0m                         latent_supervision if adversarial_target_language else rgb).item() / num_valid_batches\n\u001b[1;32m    145\u001b[0m \u001b[0;34m\u001b[0m\u001b[0m\n\u001b[0;32m--> 146\u001b[0;31m                     \u001b[0mavg_valid_loss\u001b[0m \u001b[0;34m+=\u001b[0m \u001b[0mvae_loss\u001b[0m\u001b[0;34m(\u001b[0m\u001b[0mx\u001b[0m\u001b[0;34m,\u001b[0m \u001b[0mmu\u001b[0m\u001b[0;34m,\u001b[0m \u001b[0mvar\u001b[0m\u001b[0;34m,\u001b[0m \u001b[0mrecon\u001b[0m\u001b[0;34m,\u001b[0m \u001b[0mbeta\u001b[0m\u001b[0;34m)\u001b[0m\u001b[0;34m.\u001b[0m\u001b[0mitem\u001b[0m\u001b[0;34m(\u001b[0m\u001b[0;34m)\u001b[0m \u001b[0;34m/\u001b[0m \u001b[0mnum_valid_batches\u001b[0m\u001b[0;34m\u001b[0m\u001b[0;34m\u001b[0m\u001b[0m\n\u001b[0m\u001b[1;32m    147\u001b[0m                     \u001b[0;32mif\u001b[0m \u001b[0;32mnot\u001b[0m \u001b[0mdisplays\u001b[0m\u001b[0;34m:\u001b[0m\u001b[0;34m\u001b[0m\u001b[0;34m\u001b[0m\u001b[0m\n\u001b[1;32m    148\u001b[0m                         \u001b[0mnet\u001b[0m\u001b[0;34m.\u001b[0m\u001b[0mrandom_z\u001b[0m \u001b[0;34m=\u001b[0m \u001b[0mtuple\u001b[0m\u001b[0;34m(\u001b[0m\u001b[0mz\u001b[0m\u001b[0;34m[\u001b[0m\u001b[0;36m0\u001b[0m\u001b[0;34m]\u001b[0m\u001b[0;34m.\u001b[0m\u001b[0mdetach\u001b[0m\u001b[0;34m(\u001b[0m\u001b[0;34m)\u001b[0m\u001b[0;34m.\u001b[0m\u001b[0mcpu\u001b[0m\u001b[0;34m(\u001b[0m\u001b[0;34m)\u001b[0m\u001b[0;34m.\u001b[0m\u001b[0mnumpy\u001b[0m\u001b[0;34m(\u001b[0m\u001b[0;34m)\u001b[0m\u001b[0;34m)\u001b[0m\u001b[0;34m\u001b[0m\u001b[0;34m\u001b[0m\u001b[0m\n",
      "\u001b[0;32m<ipython-input-15-cd9534fefdb1>\u001b[0m in \u001b[0;36mvae_loss\u001b[0;34m(x, mu, var, recon, beta)\u001b[0m\n\u001b[1;32m      4\u001b[0m \u001b[0mmse_loss\u001b[0m \u001b[0;34m=\u001b[0m \u001b[0mnn\u001b[0m\u001b[0;34m.\u001b[0m\u001b[0mMSELoss\u001b[0m\u001b[0;34m(\u001b[0m\u001b[0;34m)\u001b[0m\u001b[0;34m\u001b[0m\u001b[0;34m\u001b[0m\u001b[0m\n\u001b[1;32m      5\u001b[0m \u001b[0;32mdef\u001b[0m \u001b[0mvae_loss\u001b[0m\u001b[0;34m(\u001b[0m\u001b[0mx\u001b[0m\u001b[0;34m,\u001b[0m \u001b[0mmu\u001b[0m\u001b[0;34m,\u001b[0m \u001b[0mvar\u001b[0m\u001b[0;34m,\u001b[0m \u001b[0mrecon\u001b[0m\u001b[0;34m,\u001b[0m \u001b[0mbeta\u001b[0m\u001b[0;34m)\u001b[0m\u001b[0;34m:\u001b[0m\u001b[0;34m\u001b[0m\u001b[0;34m\u001b[0m\u001b[0m\n\u001b[0;32m----> 6\u001b[0;31m     \u001b[0mrecon_loss\u001b[0m \u001b[0;34m=\u001b[0m \u001b[0mbce_loss\u001b[0m\u001b[0;34m(\u001b[0m\u001b[0mrecon\u001b[0m\u001b[0;34m,\u001b[0m \u001b[0mx\u001b[0m\u001b[0;34m)\u001b[0m\u001b[0;34m\u001b[0m\u001b[0;34m\u001b[0m\u001b[0m\n\u001b[0m\u001b[1;32m      7\u001b[0m     \u001b[0mkl\u001b[0m \u001b[0;34m=\u001b[0m \u001b[0;34m-\u001b[0m\u001b[0mtorch\u001b[0m\u001b[0;34m.\u001b[0m\u001b[0msum\u001b[0m\u001b[0;34m(\u001b[0m\u001b[0;36m1\u001b[0m \u001b[0;34m+\u001b[0m \u001b[0mvar\u001b[0m \u001b[0;34m-\u001b[0m \u001b[0mtorch\u001b[0m\u001b[0;34m.\u001b[0m\u001b[0mpow\u001b[0m\u001b[0;34m(\u001b[0m\u001b[0mmu\u001b[0m\u001b[0;34m,\u001b[0m \u001b[0;36m2\u001b[0m\u001b[0;34m)\u001b[0m \u001b[0;34m-\u001b[0m \u001b[0mtorch\u001b[0m\u001b[0;34m.\u001b[0m\u001b[0mexp\u001b[0m\u001b[0;34m(\u001b[0m\u001b[0mvar\u001b[0m\u001b[0;34m)\u001b[0m\u001b[0;34m)\u001b[0m \u001b[0;34m/\u001b[0m \u001b[0;36m2\u001b[0m\u001b[0;34m\u001b[0m\u001b[0;34m\u001b[0m\u001b[0m\n\u001b[1;32m      8\u001b[0m     \u001b[0;32mreturn\u001b[0m \u001b[0;34m(\u001b[0m\u001b[0mrecon_loss\u001b[0m \u001b[0;34m+\u001b[0m \u001b[0mbeta\u001b[0m \u001b[0;34m*\u001b[0m \u001b[0mkl\u001b[0m\u001b[0;34m)\u001b[0m \u001b[0;34m/\u001b[0m \u001b[0mx\u001b[0m\u001b[0;34m.\u001b[0m\u001b[0msize\u001b[0m\u001b[0;34m(\u001b[0m\u001b[0;36m0\u001b[0m\u001b[0;34m)\u001b[0m\u001b[0;34m\u001b[0m\u001b[0;34m\u001b[0m\u001b[0m\n",
      "\u001b[0;32m~/anaconda3/lib/python3.8/site-packages/torch/nn/modules/module.py\u001b[0m in \u001b[0;36m_call_impl\u001b[0;34m(self, *input, **kwargs)\u001b[0m\n\u001b[1;32m   1192\u001b[0m         if not (self._backward_hooks or self._forward_hooks or self._forward_pre_hooks or _global_backward_hooks\n\u001b[1;32m   1193\u001b[0m                 or _global_forward_hooks or _global_forward_pre_hooks):\n\u001b[0;32m-> 1194\u001b[0;31m             \u001b[0;32mreturn\u001b[0m \u001b[0mforward_call\u001b[0m\u001b[0;34m(\u001b[0m\u001b[0;34m*\u001b[0m\u001b[0minput\u001b[0m\u001b[0;34m,\u001b[0m \u001b[0;34m**\u001b[0m\u001b[0mkwargs\u001b[0m\u001b[0;34m)\u001b[0m\u001b[0;34m\u001b[0m\u001b[0;34m\u001b[0m\u001b[0m\n\u001b[0m\u001b[1;32m   1195\u001b[0m         \u001b[0;31m# Do not call functions when jit is used\u001b[0m\u001b[0;34m\u001b[0m\u001b[0;34m\u001b[0m\u001b[0;34m\u001b[0m\u001b[0m\n\u001b[1;32m   1196\u001b[0m         \u001b[0mfull_backward_hooks\u001b[0m\u001b[0;34m,\u001b[0m \u001b[0mnon_full_backward_hooks\u001b[0m \u001b[0;34m=\u001b[0m \u001b[0;34m[\u001b[0m\u001b[0;34m]\u001b[0m\u001b[0;34m,\u001b[0m \u001b[0;34m[\u001b[0m\u001b[0;34m]\u001b[0m\u001b[0;34m\u001b[0m\u001b[0;34m\u001b[0m\u001b[0m\n",
      "\u001b[0;32m~/anaconda3/lib/python3.8/site-packages/torch/nn/modules/loss.py\u001b[0m in \u001b[0;36mforward\u001b[0;34m(self, input, target)\u001b[0m\n\u001b[1;32m    617\u001b[0m \u001b[0;34m\u001b[0m\u001b[0m\n\u001b[1;32m    618\u001b[0m     \u001b[0;32mdef\u001b[0m \u001b[0mforward\u001b[0m\u001b[0;34m(\u001b[0m\u001b[0mself\u001b[0m\u001b[0;34m,\u001b[0m \u001b[0minput\u001b[0m\u001b[0;34m:\u001b[0m \u001b[0mTensor\u001b[0m\u001b[0;34m,\u001b[0m \u001b[0mtarget\u001b[0m\u001b[0;34m:\u001b[0m \u001b[0mTensor\u001b[0m\u001b[0;34m)\u001b[0m \u001b[0;34m->\u001b[0m \u001b[0mTensor\u001b[0m\u001b[0;34m:\u001b[0m\u001b[0;34m\u001b[0m\u001b[0;34m\u001b[0m\u001b[0m\n\u001b[0;32m--> 619\u001b[0;31m         \u001b[0;32mreturn\u001b[0m \u001b[0mF\u001b[0m\u001b[0;34m.\u001b[0m\u001b[0mbinary_cross_entropy\u001b[0m\u001b[0;34m(\u001b[0m\u001b[0minput\u001b[0m\u001b[0;34m,\u001b[0m \u001b[0mtarget\u001b[0m\u001b[0;34m,\u001b[0m \u001b[0mweight\u001b[0m\u001b[0;34m=\u001b[0m\u001b[0mself\u001b[0m\u001b[0;34m.\u001b[0m\u001b[0mweight\u001b[0m\u001b[0;34m,\u001b[0m \u001b[0mreduction\u001b[0m\u001b[0;34m=\u001b[0m\u001b[0mself\u001b[0m\u001b[0;34m.\u001b[0m\u001b[0mreduction\u001b[0m\u001b[0;34m)\u001b[0m\u001b[0;34m\u001b[0m\u001b[0;34m\u001b[0m\u001b[0m\n\u001b[0m\u001b[1;32m    620\u001b[0m \u001b[0;34m\u001b[0m\u001b[0m\n\u001b[1;32m    621\u001b[0m \u001b[0;34m\u001b[0m\u001b[0m\n",
      "\u001b[0;32m~/anaconda3/lib/python3.8/site-packages/torch/nn/functional.py\u001b[0m in \u001b[0;36mbinary_cross_entropy\u001b[0;34m(input, target, weight, size_average, reduce, reduction)\u001b[0m\n\u001b[1;32m   3093\u001b[0m         \u001b[0mweight\u001b[0m \u001b[0;34m=\u001b[0m \u001b[0mweight\u001b[0m\u001b[0;34m.\u001b[0m\u001b[0mexpand\u001b[0m\u001b[0;34m(\u001b[0m\u001b[0mnew_size\u001b[0m\u001b[0;34m)\u001b[0m\u001b[0;34m\u001b[0m\u001b[0;34m\u001b[0m\u001b[0m\n\u001b[1;32m   3094\u001b[0m \u001b[0;34m\u001b[0m\u001b[0m\n\u001b[0;32m-> 3095\u001b[0;31m     \u001b[0;32mreturn\u001b[0m \u001b[0mtorch\u001b[0m\u001b[0;34m.\u001b[0m\u001b[0m_C\u001b[0m\u001b[0;34m.\u001b[0m\u001b[0m_nn\u001b[0m\u001b[0;34m.\u001b[0m\u001b[0mbinary_cross_entropy\u001b[0m\u001b[0;34m(\u001b[0m\u001b[0minput\u001b[0m\u001b[0;34m,\u001b[0m \u001b[0mtarget\u001b[0m\u001b[0;34m,\u001b[0m \u001b[0mweight\u001b[0m\u001b[0;34m,\u001b[0m \u001b[0mreduction_enum\u001b[0m\u001b[0;34m)\u001b[0m\u001b[0;34m\u001b[0m\u001b[0;34m\u001b[0m\u001b[0m\n\u001b[0m\u001b[1;32m   3096\u001b[0m \u001b[0;34m\u001b[0m\u001b[0m\n\u001b[1;32m   3097\u001b[0m \u001b[0;34m\u001b[0m\u001b[0m\n",
      "\u001b[0;31mRuntimeError\u001b[0m: all elements of input should be between 0 and 1"
     ]
    }
   ],
   "source": [
    "from torch.utils.data import DataLoader\n",
    "\n",
    "extra_params = []\n",
    "\n",
    "if extra_reducer:\n",
    "    reducer = SimpleRegressor(num_features, extra_reducer_dim).to(device)\n",
    "    num_features = extra_reducer_dim\n",
    "    extra_params.extend(list(reducer.parameters()))\n",
    "\n",
    "\n",
    "if rgb_supervise:\n",
    "    z_dim = 3 + non_given_dims\n",
    "else:\n",
    "    z_dim = num_features + non_given_dims    \n",
    "\n",
    "net = FeatureVAE(z_dim, 3 if rgb_supervise else num_features)\n",
    "net = net.to(device)\n",
    "extra_params.extend(list(net.parameters()))\n",
    "\n",
    "if rgb_supervise:\n",
    "    rgb_maker = SimpleRegressor(num_features, 3).to(device)\n",
    "    extra_params.extend(list(rgb_maker.parameters()))\n",
    "    \n",
    "if adversarial_supervise:\n",
    "    adversary = SimpleRegressor(non_given_dims, \n",
    "                                num_features if adversarial_target_language else 3).to(device)\n",
    "#     extra_params.extend(list(adversary.parameters()))\n",
    "    adv_optimizer = torch.optim.Adam(adversary.parameters(), lr=lr)\n",
    "    GRL = GradientReversalLayer.apply\n",
    "\n",
    "# optimizer = torch.optim.AdamW(extra_params, lr=lr)\n",
    "optimizer = torch.optim.Adam(extra_params, lr=lr)\n",
    "\n",
    "train_dataloader = DataLoader(DatasetWrapper(train, train_meta, train_color_rgb), batch_size=batch_size, shuffle=True)\n",
    "valid_dataloader = DataLoader(DatasetWrapper(valid, valid_meta, train_color_rgb), batch_size=batch_size, shuffle=True)\n",
    "\n",
    "\n",
    "num_batches = len(train_dataloader)\n",
    "num_valid_batches = len(valid_dataloader)\n",
    "\n",
    "\n",
    "train_losses, valid_losses = [], []\n",
    "\n",
    "rgb_losses, adversary_losses = [], []\n",
    "\n",
    "update_idxs = set([i * (num_batches // updates_per_epoch)\n",
    "    for i in range(1, updates_per_epoch)] + [num_batches])\n",
    "\n",
    "best_valid = 1e9\n",
    "for epoch in range(1, 1+num_epochs):\n",
    "    total_loss = 0.0 \n",
    "\n",
    "    pbar = tqdm(train_dataloader, desc=f\"Epoch {epoch}\", leave=True, total=num_batches)\n",
    "    \n",
    "    if adversarial_supervise and adversarial_extra_train:\n",
    "        adversary_extra_loader = iter(train_dataloader)\n",
    "    \n",
    "    for idx, (x, latent_supervision, rgb) in enumerate(pbar, start=1):\n",
    "        \n",
    "        # extra training runs for adversary\n",
    "        if adversarial_supervise and adversarial_extra_train:\n",
    "            for _ in range(adversarial_extra_train):\n",
    "                batch = next(adversary_extra_loader, None)\n",
    "                if batch is None:\n",
    "                    adversary_extra_loader = iter(train_dataloader)\n",
    "                    batch = next(adversary_extra_loader, None)\n",
    "                \n",
    "                x2, latent_supervision2, rgb2 = batch\n",
    "                \n",
    "                if extra_reducer:\n",
    "                    latent_supervision2 = reducer(latent_supervision2)\n",
    "                    \n",
    "                with torch.no_grad():\n",
    "                    supervision = latent_supervision2\n",
    "                    if rgb_supervise:\n",
    "                        pred_rgb = rgb_maker(latent_supervision2)\n",
    "                        supervision = rgb2 if epoch < rgb_supervise_start_epoch else pred_rgb\n",
    "                    recon, mu, var, z = net(x2, supervision)\n",
    "                    \n",
    "                adv_optimizer.zero_grad()\n",
    "                pred_target = adversary(z.detach())\n",
    "                loss = adversarial_lambda * mse_loss(pred_target, \n",
    "                            latent_supervision2 if adversarial_target_language else rgb2)\n",
    "                loss.backward()\n",
    "                adv_optimizer.step()\n",
    "        \n",
    "        # main train loop\n",
    "        optimizer.zero_grad()\n",
    "        \n",
    "        if extra_reducer:\n",
    "            latent_supervision = reducer(latent_supervision)\n",
    "            \n",
    "        supervision = latent_supervision\n",
    "        loss = 0.0\n",
    "        if rgb_supervise:\n",
    "            pred_rgb = rgb_maker(latent_supervision)\n",
    "            loss = loss + rgb_lambda * mse_loss(pred_rgb, rgb)\n",
    "            supervision = rgb if epoch < rgb_supervise_start_epoch else pred_rgb\n",
    "        \n",
    "        recon, mu, var, z = net(x, supervision)\n",
    "        try:\n",
    "            loss += vae_loss(x, mu, var, recon, beta)\n",
    "        except:\n",
    "            print(x.max())\n",
    "            print(recon.max())\n",
    "        \n",
    "        if adversarial_supervise:\n",
    "            pred_target = adversary(GRL(z))\n",
    "            loss = loss + adversarial_lambda * mse_loss(pred_target, \n",
    "                            latent_supervision if adversarial_target_language else rgb)\n",
    "\n",
    "        total_loss += loss.item() / gradient_accumulation_steps\n",
    "        loss = loss / gradient_accumulation_steps\n",
    "        loss.backward()\n",
    "        \n",
    "#         if (idx % gradient_accumulation_steps == 0) or (idx == num_batches):\n",
    "#             nn.utils.clip_grad_norm_(extra_params, grad_clip)\n",
    "        optimizer.step()\n",
    "\n",
    "        if idx in update_idxs:\n",
    "            avg_valid_loss = 0.0\n",
    "            \n",
    "            avg_adversary_loss, avg_rgb_loss = 0.0, 0.0\n",
    "            \n",
    "            displays = []\n",
    "            net.eval()\n",
    "            with torch.no_grad():\n",
    "                for (x, latent_supervision, rgb) in valid_dataloader:\n",
    "                    \n",
    "                    if extra_reducer:\n",
    "                        latent_supervision = reducer(latent_supervision)\n",
    "                        \n",
    "                    supervision = latent_supervision\n",
    "                    \n",
    "                    if rgb_supervise:\n",
    "                        pred_rgb = rgb_maker(latent_supervision)\n",
    "                        avg_rgb_loss += mse_loss(pred_rgb, rgb).item() / num_valid_batches\n",
    "                        supervision = pred_rgb\n",
    "                        \n",
    "                    recon, mu, var, z = net(x, supervision)\n",
    "                    \n",
    "                    if adversarial_supervise:\n",
    "                        avg_adversary_loss += mse_loss(adversary(z), \n",
    "                        latent_supervision if adversarial_target_language else rgb).item() / num_valid_batches\n",
    "                    \n",
    "                    avg_valid_loss += vae_loss(x, mu, var, recon, beta).item() / num_valid_batches\n",
    "                    if not displays:\n",
    "                        net.random_z = tuple(z[0].detach().cpu().numpy())\n",
    "                        \n",
    "                        rand_color_idxs = np.random.randint(len(valid_color_rgb), size=num_displays)\n",
    "                        rand_colors = valid_color_rgb[rand_color_idxs].cpu().numpy()\n",
    "                        \n",
    "                        rand_color_features = valid_meta[rand_color_idxs].to(device)\n",
    "                        if extra_reducer:\n",
    "                            rand_color_features = reducer(rand_color_features)\n",
    "                        \n",
    "                        if rgb_supervise:\n",
    "                            rand_color_features = rgb_maker(rand_color_features)\n",
    "                        \n",
    "                        recon2 = net.generate(z[:num_displays], rand_color_features)\n",
    "                        \n",
    "                        for j in range(num_displays):\n",
    "                            displays.append((\n",
    "                                x[j].permute(1, 2, 0).cpu().numpy(),\n",
    "                                recon[j].permute(1, 2, 0).cpu().numpy(),\n",
    "                                rand_colors[j][None, None, :],\n",
    "                                recon2[j].permute(1, 2, 0).cpu().numpy()\n",
    "                            )\n",
    "                            )\n",
    "                \n",
    "                if avg_valid_loss < best_valid:\n",
    "                    torch.save(net, f'models/{beta}-featurevae-{z_dim}dim')\n",
    "                    best_valid = avg_valid_loss\n",
    "                    \n",
    "                valid_losses.append(avg_valid_loss)\n",
    "                rgb_losses.append(avg_rgb_loss)\n",
    "                adversary_losses.append(avg_adversary_loss)\n",
    "                \n",
    "                if idx == num_batches:\n",
    "                    fig, axes = plt.subplots(num_displays, 4)\n",
    "                    fig.suptitle('Real vs Reconstruction vs Target Color vs Recolored')\n",
    "                    fig.set_size_inches(10, 4)\n",
    "                    for ax, im in zip(axes, displays):\n",
    "                        for axi, imi in zip(ax, im):\n",
    "                            axi.imshow(imi)\n",
    "                    plt.show()\n",
    "            net.train()\n",
    "\n",
    "\n",
    "            pbar.set_description(f\"Epoch {epoch} | train loss {total_loss / idx:.2f}\" + \\\n",
    "                                f\" | valid loss {avg_valid_loss:.2f}\")\n",
    "            train_losses.append(total_loss / idx) "
   ]
  },
  {
   "cell_type": "code",
   "execution_count": null,
   "metadata": {},
   "outputs": [],
   "source": [
    "plt.plot(train_losses, label='Train Loss')\n",
    "plt.plot(valid_losses, label='Valid Loss')\n",
    "\n",
    "plt.legend()\n",
    "plt.show()\n",
    "\n",
    "if rgb_supervise:\n",
    "    plt.plot(rgb_losses, label='RGB Valid Loss')\n",
    "    plt.legend()\n",
    "    plt.show()\n",
    "    \n",
    "if adversarial_supervise:\n",
    "    plt.plot(adversary_losses, label='Adversary Valid Loss')\n",
    "    plt.legend()\n",
    "    plt.show()"
   ]
  },
  {
   "cell_type": "code",
   "execution_count": null,
   "metadata": {},
   "outputs": [],
   "source": []
  }
 ],
 "metadata": {
  "kernelspec": {
   "display_name": "Python 3",
   "language": "python",
   "name": "python3"
  },
  "language_info": {
   "codemirror_mode": {
    "name": "ipython",
    "version": 3
   },
   "file_extension": ".py",
   "mimetype": "text/x-python",
   "name": "python",
   "nbconvert_exporter": "python",
   "pygments_lexer": "ipython3",
   "version": "3.8.3"
  }
 },
 "nbformat": 4,
 "nbformat_minor": 4
}
