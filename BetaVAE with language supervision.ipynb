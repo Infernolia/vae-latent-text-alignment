{
 "cells": [
  {
   "cell_type": "code",
   "execution_count": 2,
   "metadata": {},
   "outputs": [],
   "source": [
    "import torch\n",
    "import torch.nn as nn\n",
    "import torch.nn.functional as F\n",
    "from torchvision import transforms\n",
    "\n",
    "from betavae import BVAE\n",
    "import supervised_bvae\n",
    "\n",
    "import pandas as pd\n",
    "import numpy as np\n",
    "import matplotlib.pyplot as plt\n",
    "from tqdm import tqdm\n",
    "\n",
    "from sklearn.model_selection import train_test_split"
   ]
  },
  {
   "cell_type": "code",
   "execution_count": 3,
   "metadata": {},
   "outputs": [],
   "source": [
    "# you may wish to modify these first three values if ablating\n",
    "# beta is as in beta-vae\n",
    "# alpha is the weight for reconstructing the latent supervision vs. the original image\n",
    "# (so higher alpha -> more weight on reconstructing the USE embedding or whatever)\n",
    "z_dim = 16\n",
    "beta = 1\n",
    "alpha = 0.5\n",
    "\n",
    "num_epochs = 50\n",
    "batch_size = 64\n",
    "gradient_accumulation_steps = 1\n",
    "lr = 1e-3\n",
    "\n",
    "updates_per_epoch = 1"
   ]
  },
  {
   "cell_type": "code",
   "execution_count": 4,
   "metadata": {},
   "outputs": [],
   "source": [
    "rand_state = 420\n",
    "\n",
    "torch.manual_seed(rand_state)\n",
    "np.random.seed(rand_state)"
   ]
  },
  {
   "cell_type": "code",
   "execution_count": 5,
   "metadata": {},
   "outputs": [
    {
     "data": {
      "text/plain": [
       "device(type='cpu')"
      ]
     },
     "execution_count": 5,
     "metadata": {},
     "output_type": "execute_result"
    }
   ],
   "source": [
    "device = torch.device(\"cuda\" if torch.cuda.is_available() else \"cpu\")\n",
    "device"
   ]
  },
  {
   "cell_type": "code",
   "execution_count": 6,
   "metadata": {},
   "outputs": [
    {
     "data": {
      "text/html": [
       "<div>\n",
       "<style scoped>\n",
       "    .dataframe tbody tr th:only-of-type {\n",
       "        vertical-align: middle;\n",
       "    }\n",
       "\n",
       "    .dataframe tbody tr th {\n",
       "        vertical-align: top;\n",
       "    }\n",
       "\n",
       "    .dataframe thead th {\n",
       "        text-align: right;\n",
       "    }\n",
       "</style>\n",
       "<table border=\"1\" class=\"dataframe\">\n",
       "  <thead>\n",
       "    <tr style=\"text-align: right;\">\n",
       "      <th></th>\n",
       "      <th>shape</th>\n",
       "      <th>color</th>\n",
       "      <th>r</th>\n",
       "      <th>g</th>\n",
       "      <th>b</th>\n",
       "      <th>wscale</th>\n",
       "      <th>hscale</th>\n",
       "      <th>rotation</th>\n",
       "      <th>skew</th>\n",
       "      <th>xcenter</th>\n",
       "      <th>ycenter</th>\n",
       "      <th>hatch</th>\n",
       "      <th>shadow</th>\n",
       "    </tr>\n",
       "  </thead>\n",
       "  <tbody>\n",
       "    <tr>\n",
       "      <th>0</th>\n",
       "      <td>heptagon</td>\n",
       "      <td>almost black</td>\n",
       "      <td>0.027451</td>\n",
       "      <td>0.050980</td>\n",
       "      <td>0.050980</td>\n",
       "      <td>1.481863</td>\n",
       "      <td>1.445323</td>\n",
       "      <td>0.000000</td>\n",
       "      <td>0.000000</td>\n",
       "      <td>30.873125</td>\n",
       "      <td>-4.386932</td>\n",
       "      <td>NaN</td>\n",
       "      <td>False</td>\n",
       "    </tr>\n",
       "    <tr>\n",
       "      <th>1</th>\n",
       "      <td>rectangle</td>\n",
       "      <td>mustard brown</td>\n",
       "      <td>0.674510</td>\n",
       "      <td>0.494118</td>\n",
       "      <td>0.015686</td>\n",
       "      <td>0.687809</td>\n",
       "      <td>0.687809</td>\n",
       "      <td>129.534566</td>\n",
       "      <td>-24.544234</td>\n",
       "      <td>0.000000</td>\n",
       "      <td>0.000000</td>\n",
       "      <td>*</td>\n",
       "      <td>False</td>\n",
       "    </tr>\n",
       "    <tr>\n",
       "      <th>2</th>\n",
       "      <td>pentagon</td>\n",
       "      <td>cool blue</td>\n",
       "      <td>0.286275</td>\n",
       "      <td>0.517647</td>\n",
       "      <td>0.721569</td>\n",
       "      <td>1.000000</td>\n",
       "      <td>1.000000</td>\n",
       "      <td>0.000000</td>\n",
       "      <td>0.000000</td>\n",
       "      <td>0.000000</td>\n",
       "      <td>-0.578535</td>\n",
       "      <td>NaN</td>\n",
       "      <td>False</td>\n",
       "    </tr>\n",
       "    <tr>\n",
       "      <th>3</th>\n",
       "      <td>triangle</td>\n",
       "      <td>olive green</td>\n",
       "      <td>0.403922</td>\n",
       "      <td>0.478431</td>\n",
       "      <td>0.015686</td>\n",
       "      <td>0.908967</td>\n",
       "      <td>0.908967</td>\n",
       "      <td>101.475968</td>\n",
       "      <td>0.000000</td>\n",
       "      <td>0.000000</td>\n",
       "      <td>0.000000</td>\n",
       "      <td>NaN</td>\n",
       "      <td>True</td>\n",
       "    </tr>\n",
       "    <tr>\n",
       "      <th>4</th>\n",
       "      <td>ellipse</td>\n",
       "      <td>brownish yellow</td>\n",
       "      <td>0.788235</td>\n",
       "      <td>0.690196</td>\n",
       "      <td>0.011765</td>\n",
       "      <td>0.743424</td>\n",
       "      <td>0.692907</td>\n",
       "      <td>298.500376</td>\n",
       "      <td>0.000000</td>\n",
       "      <td>4.407094</td>\n",
       "      <td>16.628985</td>\n",
       "      <td>NaN</td>\n",
       "      <td>False</td>\n",
       "    </tr>\n",
       "  </tbody>\n",
       "</table>\n",
       "</div>"
      ],
      "text/plain": [
       "       shape            color         r         g         b    wscale  \\\n",
       "0   heptagon     almost black  0.027451  0.050980  0.050980  1.481863   \n",
       "1  rectangle    mustard brown  0.674510  0.494118  0.015686  0.687809   \n",
       "2   pentagon        cool blue  0.286275  0.517647  0.721569  1.000000   \n",
       "3   triangle      olive green  0.403922  0.478431  0.015686  0.908967   \n",
       "4    ellipse  brownish yellow  0.788235  0.690196  0.011765  0.743424   \n",
       "\n",
       "     hscale    rotation       skew    xcenter    ycenter hatch  shadow  \n",
       "0  1.445323    0.000000   0.000000  30.873125  -4.386932   NaN   False  \n",
       "1  0.687809  129.534566 -24.544234   0.000000   0.000000     *   False  \n",
       "2  1.000000    0.000000   0.000000   0.000000  -0.578535   NaN   False  \n",
       "3  0.908967  101.475968   0.000000   0.000000   0.000000   NaN    True  \n",
       "4  0.692907  298.500376   0.000000   4.407094  16.628985   NaN   False  "
      ]
     },
     "execution_count": 6,
     "metadata": {},
     "output_type": "execute_result"
    }
   ],
   "source": [
    "shapes_meta = pd.read_csv('shapes.csv')\n",
    "shapes_meta.head()"
   ]
  },
  {
   "cell_type": "code",
   "execution_count": 7,
   "metadata": {},
   "outputs": [
    {
     "data": {
      "text/plain": [
       "torch.Size([20000, 3, 64, 64])"
      ]
     },
     "execution_count": 7,
     "metadata": {},
     "output_type": "execute_result"
    }
   ],
   "source": [
    "resize = transforms.Resize(64)\n",
    "shapes = resize(torch.load('shapes.pt').permute(0, 3, 1, 2) / 255)\n",
    "del resize\n",
    "shapes.shape"
   ]
  },
  {
   "cell_type": "code",
   "execution_count": 8,
   "metadata": {},
   "outputs": [],
   "source": [
    "train, valid = train_test_split(shapes, test_size=0.1, random_state=rand_state)\n",
    "train_meta, valid_meta = train_test_split(shapes_meta, test_size=0.1, random_state=rand_state)\n",
    "del shapes"
   ]
  },
  {
   "cell_type": "code",
   "execution_count": 9,
   "metadata": {},
   "outputs": [
    {
     "name": "stderr",
     "output_type": "stream",
     "text": [
      "2023-04-25 19:28:56.910306: I tensorflow/core/platform/cpu_feature_guard.cc:182] This TensorFlow binary is optimized to use available CPU instructions in performance-critical operations.\n",
      "To enable the following instructions: AVX2 FMA, in other operations, rebuild TensorFlow with the appropriate compiler flags.\n",
      "2023-04-25 19:28:58.324248: W tensorflow/compiler/tf2tensorrt/utils/py_utils.cc:38] TF-TRT Warning: Could not find TensorRT\n",
      "2023-04-25 19:29:04.082830: I tensorflow/core/common_runtime/executor.cc:1197] [/device:CPU:0] (DEBUG INFO) Executor start aborting (this does not indicate an error and you can ignore this message): INVALID_ARGUMENT: You must feed a value for placeholder tensor 'inputs' with dtype string\n",
      "\t [[{{node inputs}}]]\n"
     ]
    },
    {
     "name": "stdout",
     "output_type": "stream",
     "text": [
      "1.0000002\n",
      "creating language embedding supervision\n"
     ]
    }
   ],
   "source": [
    "import tensorflow as tf\n",
    "import tensorflow_hub as hub\n",
    "\n",
    "module_url = \"https://tfhub.dev/google/universal-sentence-encoder/4\"\n",
    "use_model = hub.load(module_url)\n",
    "\n",
    "# I really want to try CLIP embeddings as well\n",
    "# I know they're used in other models where language is used to guide an image representation (e.g. stable diffusion)\n",
    "# and they're more aligned with image representations.\n",
    "\n",
    "def encode_USE(input_DF):\n",
    "    return torch.tensor(use_model(input_DF.color.values).numpy())\n",
    "\n",
    "# flags\n",
    "\n",
    "language_supervision = True\n",
    "encoder = encode_USE\n",
    "\n",
    "\n",
    "\n",
    "train_meta, valid_meta = train_test_split(shapes_meta, test_size=0.1, random_state=rand_state)\n",
    "\n",
    "if not language_supervision:\n",
    "    print('creating direct supervision')\n",
    "    train_meta = torch.tensor(train_meta.iloc[:,2:5].values).float()\n",
    "    valid_meta = torch.tensor(valid_meta.iloc[:,2:5].values).float()\n",
    "else:\n",
    "    print('creating language embedding supervision')\n",
    "    train_meta = encoder(train_meta)\n",
    "    valid_meta = encoder(valid_meta)\n"
   ]
  },
  {
   "cell_type": "code",
   "execution_count": 10,
   "metadata": {},
   "outputs": [
    {
     "data": {
      "text/plain": [
       "512"
      ]
     },
     "execution_count": 10,
     "metadata": {},
     "output_type": "execute_result"
    }
   ],
   "source": [
    "supervised_dim = train_meta.shape[1]\n",
    "supervised_dim"
   ]
  },
  {
   "cell_type": "code",
   "execution_count": 11,
   "metadata": {},
   "outputs": [],
   "source": [
    "from torch.utils.data import Dataset\n",
    "\n",
    "bce_loss = nn.BCELoss(reduction='sum')\n",
    "mse_loss = nn.MSELoss(reduction='sum')\n",
    "def vae_loss(x, mu, var, recon, beta):\n",
    "    recon_loss = bce_loss(recon, x)\n",
    "    kl = -torch.sum(1 + var - torch.pow(mu, 2) - torch.exp(var)) / 2\n",
    "    return (recon_loss + beta * kl) / x.size(0)\n",
    "\n",
    "def supervised_vae_loss(x, yhat, supervision, mu, var, recon, beta, alpha):\n",
    "    a = mse_loss(yhat, supervision)\n",
    "    return a, vae_loss(x, mu, var, recon, beta) + a*alpha\n",
    "\n",
    "class DatasetWrapper(Dataset):\n",
    "    def __init__(self, imgs, latent_supervision):\n",
    "        self.imgs = imgs\n",
    "        self.latent_supervision = latent_supervision\n",
    "    def __len__(self):\n",
    "        return len(self.imgs)\n",
    "    def __getitem__(self, idx):\n",
    "        return self.imgs[idx], self.latent_supervision[idx]"
   ]
  },
  {
   "cell_type": "code",
   "execution_count": 30,
   "metadata": {},
   "outputs": [
    {
     "name": "stderr",
     "output_type": "stream",
     "text": [
      "Epoch 1:   0%|▋                                                                                                                                                                                         | 1/282 [00:00<00:31,  8.80it/s]"
     ]
    },
    {
     "name": "stdout",
     "output_type": "stream",
     "text": [
      "tensor(159.7025, grad_fn=<NormBackward1>)\n",
      "tensor(139.1306, grad_fn=<NormBackward1>)\n",
      "tensor(115.8528, grad_fn=<NormBackward1>)\n"
     ]
    },
    {
     "name": "stderr",
     "output_type": "stream",
     "text": [
      "Epoch 1:   2%|███▎                                                                                                                                                                                      | 5/282 [00:00<00:26, 10.36it/s]"
     ]
    },
    {
     "name": "stdout",
     "output_type": "stream",
     "text": [
      "tensor(111.8859, grad_fn=<NormBackward1>)\n",
      "tensor(108.0505, grad_fn=<NormBackward1>)\n",
      "tensor(93.4993, grad_fn=<NormBackward1>)\n"
     ]
    },
    {
     "name": "stderr",
     "output_type": "stream",
     "text": [
      "Epoch 1:   3%|█████▎                                                                                                                                                                                    | 8/282 [00:00<00:28,  9.59it/s]"
     ]
    },
    {
     "name": "stdout",
     "output_type": "stream",
     "text": [
      "tensor(83.7048, grad_fn=<NormBackward1>)\n",
      "tensor(82.5905, grad_fn=<NormBackward1>)\n"
     ]
    },
    {
     "name": "stderr",
     "output_type": "stream",
     "text": [
      "Epoch 1:   4%|██████▌                                                                                                                                                                                  | 10/282 [00:01<00:28,  9.44it/s]"
     ]
    },
    {
     "name": "stdout",
     "output_type": "stream",
     "text": [
      "tensor(79.9358, grad_fn=<NormBackward1>)\n",
      "tensor(76.3600, grad_fn=<NormBackward1>)\n"
     ]
    },
    {
     "name": "stderr",
     "output_type": "stream",
     "text": [
      "Epoch 1:   4%|███████▊                                                                                                                                                                                 | 12/282 [00:01<00:29,  9.23it/s]"
     ]
    },
    {
     "name": "stdout",
     "output_type": "stream",
     "text": [
      "tensor(68.4092, grad_fn=<NormBackward1>)\n",
      "tensor(67.7526, grad_fn=<NormBackward1>)\n"
     ]
    },
    {
     "name": "stderr",
     "output_type": "stream",
     "text": [
      "\r",
      "Epoch 1:   5%|████████▌                                                                                                                                                                                | 13/282 [00:01<00:29,  9.25it/s]"
     ]
    },
    {
     "name": "stdout",
     "output_type": "stream",
     "text": [
      "tensor(65.5698, grad_fn=<NormBackward1>)\n",
      "tensor(63.1677, grad_fn=<NormBackward1>)\n",
      "tensor(59.7653, grad_fn=<NormBackward1>)\n"
     ]
    },
    {
     "name": "stderr",
     "output_type": "stream",
     "text": [
      "Epoch 1:   6%|██████████▍                                                                                                                                                                              | 16/282 [00:01<00:27,  9.73it/s]"
     ]
    },
    {
     "name": "stdout",
     "output_type": "stream",
     "text": [
      "tensor(61.3271, grad_fn=<NormBackward1>)\n",
      "tensor(60.6646, grad_fn=<NormBackward1>)\n",
      "tensor(56.0995, grad_fn=<NormBackward1>)\n"
     ]
    },
    {
     "name": "stderr",
     "output_type": "stream",
     "text": [
      "Epoch 1:   7%|█████████████                                                                                                                                                                            | 20/282 [00:02<00:25, 10.24it/s]"
     ]
    },
    {
     "name": "stdout",
     "output_type": "stream",
     "text": [
      "tensor(56.0123, grad_fn=<NormBackward1>)\n",
      "tensor(56.1147, grad_fn=<NormBackward1>)\n"
     ]
    },
    {
     "name": "stderr",
     "output_type": "stream",
     "text": [
      "\r",
      "Epoch 1:   8%|██████████████▍                                                                                                                                                                          | 22/282 [00:02<00:26,  9.98it/s]"
     ]
    },
    {
     "name": "stdout",
     "output_type": "stream",
     "text": [
      "tensor(51.9328, grad_fn=<NormBackward1>)\n",
      "tensor(50.9451, grad_fn=<NormBackward1>)\n"
     ]
    },
    {
     "name": "stderr",
     "output_type": "stream",
     "text": [
      "\r",
      "Epoch 1:   9%|███████████████▋                                                                                                                                                                         | 24/282 [00:02<00:25, 10.27it/s]"
     ]
    },
    {
     "name": "stdout",
     "output_type": "stream",
     "text": [
      "tensor(49.9520, grad_fn=<NormBackward1>)\n",
      "tensor(50.1462, grad_fn=<NormBackward1>)\n",
      "tensor(45.9432, grad_fn=<NormBackward1>)\n"
     ]
    },
    {
     "name": "stderr",
     "output_type": "stream",
     "text": [
      "\r",
      "Epoch 1:   9%|█████████████████                                                                                                                                                                        | 26/282 [00:02<00:25,  9.93it/s]"
     ]
    },
    {
     "name": "stdout",
     "output_type": "stream",
     "text": [
      "tensor(46.8685, grad_fn=<NormBackward1>)\n",
      "tensor(48.5081, grad_fn=<NormBackward1>)\n",
      "tensor(46.4234, grad_fn=<NormBackward1>)\n"
     ]
    },
    {
     "name": "stderr",
     "output_type": "stream",
     "text": [
      "Epoch 1:  10%|███████████████████                                                                                                                                                                      | 29/282 [00:02<00:25,  9.79it/s]"
     ]
    },
    {
     "name": "stdout",
     "output_type": "stream",
     "text": [
      "tensor(44.2533, grad_fn=<NormBackward1>)\n",
      "tensor(41.9391, grad_fn=<NormBackward1>)\n",
      "tensor(42.2945, grad_fn=<NormBackward1>)\n"
     ]
    },
    {
     "name": "stderr",
     "output_type": "stream",
     "text": [
      "Epoch 1:  12%|█████████████████████▋                                                                                                                                                                   | 33/282 [00:03<00:23, 10.75it/s]"
     ]
    },
    {
     "name": "stdout",
     "output_type": "stream",
     "text": [
      "tensor(42.6006, grad_fn=<NormBackward1>)\n",
      "tensor(40.2190, grad_fn=<NormBackward1>)\n",
      "tensor(41.6762, grad_fn=<NormBackward1>)\n"
     ]
    },
    {
     "name": "stderr",
     "output_type": "stream",
     "text": [
      "\r",
      "Epoch 1:  12%|██████████████████████▉                                                                                                                                                                  | 35/282 [00:03<00:23, 10.40it/s]"
     ]
    },
    {
     "name": "stdout",
     "output_type": "stream",
     "text": [
      "tensor(42.0302, grad_fn=<NormBackward1>)\n",
      "tensor(41.6782, grad_fn=<NormBackward1>)\n",
      "tensor(38.5136, grad_fn=<NormBackward1>)\n"
     ]
    },
    {
     "name": "stderr",
     "output_type": "stream",
     "text": [
      "Epoch 1:  14%|█████████████████████████▌                                                                                                                                                               | 39/282 [00:03<00:22, 10.85it/s]"
     ]
    },
    {
     "name": "stdout",
     "output_type": "stream",
     "text": [
      "tensor(38.2785, grad_fn=<NormBackward1>)\n",
      "tensor(39.3641, grad_fn=<NormBackward1>)\n",
      "tensor(36.7386, grad_fn=<NormBackward1>)\n"
     ]
    },
    {
     "name": "stderr",
     "output_type": "stream",
     "text": [
      "Epoch 1:  15%|███████████████████████████▌                                                                                                                                                             | 42/282 [00:04<00:23, 10.05it/s]"
     ]
    },
    {
     "name": "stdout",
     "output_type": "stream",
     "text": [
      "tensor(36.9094, grad_fn=<NormBackward1>)\n",
      "tensor(39.6696, grad_fn=<NormBackward1>)\n"
     ]
    },
    {
     "name": "stderr",
     "output_type": "stream",
     "text": [
      "\n"
     ]
    },
    {
     "ename": "KeyboardInterrupt",
     "evalue": "",
     "output_type": "error",
     "traceback": [
      "\u001b[0;31m---------------------------------------------------------------------------\u001b[0m",
      "\u001b[0;31mKeyboardInterrupt\u001b[0m                         Traceback (most recent call last)",
      "Cell \u001b[0;32mIn[30], line 31\u001b[0m\n\u001b[1;32m     28\u001b[0m x, latent_supervision \u001b[38;5;241m=\u001b[39m batch\n\u001b[1;32m     29\u001b[0m x \u001b[38;5;241m=\u001b[39m x\u001b[38;5;241m.\u001b[39mto(device) \u001b[38;5;66;03m# how inefficient is it to stream batches to the device like this? I guess it saves GPU memory\u001b[39;00m\n\u001b[0;32m---> 31\u001b[0m recon, mu, var, _, yhat \u001b[38;5;241m=\u001b[39m \u001b[43mnet\u001b[49m\u001b[43m(\u001b[49m\u001b[43mx\u001b[49m\u001b[43m)\u001b[49m\n\u001b[1;32m     33\u001b[0m supervision_loss, loss \u001b[38;5;241m=\u001b[39m supervised_vae_loss(x, yhat, latent_supervision, mu, var, recon, beta, alpha)\n\u001b[1;32m     35\u001b[0m total_loss \u001b[38;5;241m+\u001b[39m\u001b[38;5;241m=\u001b[39m loss\u001b[38;5;241m.\u001b[39mitem() \u001b[38;5;241m/\u001b[39m gradient_accumulation_steps\n",
      "File \u001b[0;32m~/miniconda3/lib/python3.9/site-packages/torch/nn/modules/module.py:1194\u001b[0m, in \u001b[0;36mModule._call_impl\u001b[0;34m(self, *input, **kwargs)\u001b[0m\n\u001b[1;32m   1190\u001b[0m \u001b[38;5;66;03m# If we don't have any hooks, we want to skip the rest of the logic in\u001b[39;00m\n\u001b[1;32m   1191\u001b[0m \u001b[38;5;66;03m# this function, and just call forward.\u001b[39;00m\n\u001b[1;32m   1192\u001b[0m \u001b[38;5;28;01mif\u001b[39;00m \u001b[38;5;129;01mnot\u001b[39;00m (\u001b[38;5;28mself\u001b[39m\u001b[38;5;241m.\u001b[39m_backward_hooks \u001b[38;5;129;01mor\u001b[39;00m \u001b[38;5;28mself\u001b[39m\u001b[38;5;241m.\u001b[39m_forward_hooks \u001b[38;5;129;01mor\u001b[39;00m \u001b[38;5;28mself\u001b[39m\u001b[38;5;241m.\u001b[39m_forward_pre_hooks \u001b[38;5;129;01mor\u001b[39;00m _global_backward_hooks\n\u001b[1;32m   1193\u001b[0m         \u001b[38;5;129;01mor\u001b[39;00m _global_forward_hooks \u001b[38;5;129;01mor\u001b[39;00m _global_forward_pre_hooks):\n\u001b[0;32m-> 1194\u001b[0m     \u001b[38;5;28;01mreturn\u001b[39;00m \u001b[43mforward_call\u001b[49m\u001b[43m(\u001b[49m\u001b[38;5;241;43m*\u001b[39;49m\u001b[38;5;28;43minput\u001b[39;49m\u001b[43m,\u001b[49m\u001b[43m \u001b[49m\u001b[38;5;241;43m*\u001b[39;49m\u001b[38;5;241;43m*\u001b[39;49m\u001b[43mkwargs\u001b[49m\u001b[43m)\u001b[49m\n\u001b[1;32m   1195\u001b[0m \u001b[38;5;66;03m# Do not call functions when jit is used\u001b[39;00m\n\u001b[1;32m   1196\u001b[0m full_backward_hooks, non_full_backward_hooks \u001b[38;5;241m=\u001b[39m [], []\n",
      "File \u001b[0;32m/mnt/d/PyCharmProjects/PGM/supervised_bvae.py:16\u001b[0m, in \u001b[0;36mSupervisedBVAE.forward\u001b[0;34m(self, x)\u001b[0m\n\u001b[1;32m     14\u001b[0m mu, var \u001b[38;5;241m=\u001b[39m \u001b[38;5;28msuper\u001b[39m()\u001b[38;5;241m.\u001b[39mto_parameters(x)\n\u001b[1;32m     15\u001b[0m z \u001b[38;5;241m=\u001b[39m \u001b[38;5;28msuper\u001b[39m()\u001b[38;5;241m.\u001b[39mresample(mu, var)\n\u001b[0;32m---> 16\u001b[0m img \u001b[38;5;241m=\u001b[39m \u001b[38;5;28;43msuper\u001b[39;49m\u001b[43m(\u001b[49m\u001b[43m)\u001b[49m\u001b[38;5;241;43m.\u001b[39;49m\u001b[43mto_img\u001b[49m\u001b[43m(\u001b[49m\u001b[43mz\u001b[49m\u001b[43m)\u001b[49m\n\u001b[1;32m     17\u001b[0m yhat \u001b[38;5;241m=\u001b[39m \u001b[38;5;28mself\u001b[39m\u001b[38;5;241m.\u001b[39mz_to_out_map(z)\n\u001b[1;32m     18\u001b[0m \u001b[38;5;28;01mreturn\u001b[39;00m img, mu, var, z, yhat\n",
      "File \u001b[0;32m/mnt/d/PyCharmProjects/PGM/betavae.py:69\u001b[0m, in \u001b[0;36mBVAE.to_img\u001b[0;34m(self, z)\u001b[0m\n\u001b[1;32m     67\u001b[0m \u001b[38;5;28;01mdef\u001b[39;00m \u001b[38;5;21mto_img\u001b[39m(\u001b[38;5;28mself\u001b[39m, z):\n\u001b[1;32m     68\u001b[0m     z \u001b[38;5;241m=\u001b[39m \u001b[38;5;28mself\u001b[39m\u001b[38;5;241m.\u001b[39mproject_z(z)\u001b[38;5;241m.\u001b[39mview(z\u001b[38;5;241m.\u001b[39msize(\u001b[38;5;241m0\u001b[39m), \u001b[38;5;241m-\u001b[39m\u001b[38;5;241m1\u001b[39m, \u001b[38;5;241m2\u001b[39m, \u001b[38;5;241m2\u001b[39m)\n\u001b[0;32m---> 69\u001b[0m     img \u001b[38;5;241m=\u001b[39m \u001b[38;5;28;43mself\u001b[39;49m\u001b[38;5;241;43m.\u001b[39;49m\u001b[43mfrom_z\u001b[49m\u001b[43m(\u001b[49m\u001b[43mz\u001b[49m\u001b[43m)\u001b[49m\n\u001b[1;32m     70\u001b[0m     \u001b[38;5;28;01mreturn\u001b[39;00m img\n",
      "File \u001b[0;32m~/miniconda3/lib/python3.9/site-packages/torch/nn/modules/module.py:1194\u001b[0m, in \u001b[0;36mModule._call_impl\u001b[0;34m(self, *input, **kwargs)\u001b[0m\n\u001b[1;32m   1190\u001b[0m \u001b[38;5;66;03m# If we don't have any hooks, we want to skip the rest of the logic in\u001b[39;00m\n\u001b[1;32m   1191\u001b[0m \u001b[38;5;66;03m# this function, and just call forward.\u001b[39;00m\n\u001b[1;32m   1192\u001b[0m \u001b[38;5;28;01mif\u001b[39;00m \u001b[38;5;129;01mnot\u001b[39;00m (\u001b[38;5;28mself\u001b[39m\u001b[38;5;241m.\u001b[39m_backward_hooks \u001b[38;5;129;01mor\u001b[39;00m \u001b[38;5;28mself\u001b[39m\u001b[38;5;241m.\u001b[39m_forward_hooks \u001b[38;5;129;01mor\u001b[39;00m \u001b[38;5;28mself\u001b[39m\u001b[38;5;241m.\u001b[39m_forward_pre_hooks \u001b[38;5;129;01mor\u001b[39;00m _global_backward_hooks\n\u001b[1;32m   1193\u001b[0m         \u001b[38;5;129;01mor\u001b[39;00m _global_forward_hooks \u001b[38;5;129;01mor\u001b[39;00m _global_forward_pre_hooks):\n\u001b[0;32m-> 1194\u001b[0m     \u001b[38;5;28;01mreturn\u001b[39;00m \u001b[43mforward_call\u001b[49m\u001b[43m(\u001b[49m\u001b[38;5;241;43m*\u001b[39;49m\u001b[38;5;28;43minput\u001b[39;49m\u001b[43m,\u001b[49m\u001b[43m \u001b[49m\u001b[38;5;241;43m*\u001b[39;49m\u001b[38;5;241;43m*\u001b[39;49m\u001b[43mkwargs\u001b[49m\u001b[43m)\u001b[49m\n\u001b[1;32m   1195\u001b[0m \u001b[38;5;66;03m# Do not call functions when jit is used\u001b[39;00m\n\u001b[1;32m   1196\u001b[0m full_backward_hooks, non_full_backward_hooks \u001b[38;5;241m=\u001b[39m [], []\n",
      "File \u001b[0;32m~/miniconda3/lib/python3.9/site-packages/torch/nn/modules/container.py:204\u001b[0m, in \u001b[0;36mSequential.forward\u001b[0;34m(self, input)\u001b[0m\n\u001b[1;32m    202\u001b[0m \u001b[38;5;28;01mdef\u001b[39;00m \u001b[38;5;21mforward\u001b[39m(\u001b[38;5;28mself\u001b[39m, \u001b[38;5;28minput\u001b[39m):\n\u001b[1;32m    203\u001b[0m     \u001b[38;5;28;01mfor\u001b[39;00m module \u001b[38;5;129;01min\u001b[39;00m \u001b[38;5;28mself\u001b[39m:\n\u001b[0;32m--> 204\u001b[0m         \u001b[38;5;28minput\u001b[39m \u001b[38;5;241m=\u001b[39m \u001b[43mmodule\u001b[49m\u001b[43m(\u001b[49m\u001b[38;5;28;43minput\u001b[39;49m\u001b[43m)\u001b[49m\n\u001b[1;32m    205\u001b[0m     \u001b[38;5;28;01mreturn\u001b[39;00m \u001b[38;5;28minput\u001b[39m\n",
      "File \u001b[0;32m~/miniconda3/lib/python3.9/site-packages/torch/nn/modules/module.py:1194\u001b[0m, in \u001b[0;36mModule._call_impl\u001b[0;34m(self, *input, **kwargs)\u001b[0m\n\u001b[1;32m   1190\u001b[0m \u001b[38;5;66;03m# If we don't have any hooks, we want to skip the rest of the logic in\u001b[39;00m\n\u001b[1;32m   1191\u001b[0m \u001b[38;5;66;03m# this function, and just call forward.\u001b[39;00m\n\u001b[1;32m   1192\u001b[0m \u001b[38;5;28;01mif\u001b[39;00m \u001b[38;5;129;01mnot\u001b[39;00m (\u001b[38;5;28mself\u001b[39m\u001b[38;5;241m.\u001b[39m_backward_hooks \u001b[38;5;129;01mor\u001b[39;00m \u001b[38;5;28mself\u001b[39m\u001b[38;5;241m.\u001b[39m_forward_hooks \u001b[38;5;129;01mor\u001b[39;00m \u001b[38;5;28mself\u001b[39m\u001b[38;5;241m.\u001b[39m_forward_pre_hooks \u001b[38;5;129;01mor\u001b[39;00m _global_backward_hooks\n\u001b[1;32m   1193\u001b[0m         \u001b[38;5;129;01mor\u001b[39;00m _global_forward_hooks \u001b[38;5;129;01mor\u001b[39;00m _global_forward_pre_hooks):\n\u001b[0;32m-> 1194\u001b[0m     \u001b[38;5;28;01mreturn\u001b[39;00m \u001b[43mforward_call\u001b[49m\u001b[43m(\u001b[49m\u001b[38;5;241;43m*\u001b[39;49m\u001b[38;5;28;43minput\u001b[39;49m\u001b[43m,\u001b[49m\u001b[43m \u001b[49m\u001b[38;5;241;43m*\u001b[39;49m\u001b[38;5;241;43m*\u001b[39;49m\u001b[43mkwargs\u001b[49m\u001b[43m)\u001b[49m\n\u001b[1;32m   1195\u001b[0m \u001b[38;5;66;03m# Do not call functions when jit is used\u001b[39;00m\n\u001b[1;32m   1196\u001b[0m full_backward_hooks, non_full_backward_hooks \u001b[38;5;241m=\u001b[39m [], []\n",
      "File \u001b[0;32m~/miniconda3/lib/python3.9/site-packages/torch/nn/modules/conv.py:956\u001b[0m, in \u001b[0;36mConvTranspose2d.forward\u001b[0;34m(self, input, output_size)\u001b[0m\n\u001b[1;32m    951\u001b[0m num_spatial_dims \u001b[38;5;241m=\u001b[39m \u001b[38;5;241m2\u001b[39m\n\u001b[1;32m    952\u001b[0m output_padding \u001b[38;5;241m=\u001b[39m \u001b[38;5;28mself\u001b[39m\u001b[38;5;241m.\u001b[39m_output_padding(\n\u001b[1;32m    953\u001b[0m     \u001b[38;5;28minput\u001b[39m, output_size, \u001b[38;5;28mself\u001b[39m\u001b[38;5;241m.\u001b[39mstride, \u001b[38;5;28mself\u001b[39m\u001b[38;5;241m.\u001b[39mpadding, \u001b[38;5;28mself\u001b[39m\u001b[38;5;241m.\u001b[39mkernel_size,  \u001b[38;5;66;03m# type: ignore[arg-type]\u001b[39;00m\n\u001b[1;32m    954\u001b[0m     num_spatial_dims, \u001b[38;5;28mself\u001b[39m\u001b[38;5;241m.\u001b[39mdilation)  \u001b[38;5;66;03m# type: ignore[arg-type]\u001b[39;00m\n\u001b[0;32m--> 956\u001b[0m \u001b[38;5;28;01mreturn\u001b[39;00m \u001b[43mF\u001b[49m\u001b[38;5;241;43m.\u001b[39;49m\u001b[43mconv_transpose2d\u001b[49m\u001b[43m(\u001b[49m\n\u001b[1;32m    957\u001b[0m \u001b[43m    \u001b[49m\u001b[38;5;28;43minput\u001b[39;49m\u001b[43m,\u001b[49m\u001b[43m \u001b[49m\u001b[38;5;28;43mself\u001b[39;49m\u001b[38;5;241;43m.\u001b[39;49m\u001b[43mweight\u001b[49m\u001b[43m,\u001b[49m\u001b[43m \u001b[49m\u001b[38;5;28;43mself\u001b[39;49m\u001b[38;5;241;43m.\u001b[39;49m\u001b[43mbias\u001b[49m\u001b[43m,\u001b[49m\u001b[43m \u001b[49m\u001b[38;5;28;43mself\u001b[39;49m\u001b[38;5;241;43m.\u001b[39;49m\u001b[43mstride\u001b[49m\u001b[43m,\u001b[49m\u001b[43m \u001b[49m\u001b[38;5;28;43mself\u001b[39;49m\u001b[38;5;241;43m.\u001b[39;49m\u001b[43mpadding\u001b[49m\u001b[43m,\u001b[49m\n\u001b[1;32m    958\u001b[0m \u001b[43m    \u001b[49m\u001b[43moutput_padding\u001b[49m\u001b[43m,\u001b[49m\u001b[43m \u001b[49m\u001b[38;5;28;43mself\u001b[39;49m\u001b[38;5;241;43m.\u001b[39;49m\u001b[43mgroups\u001b[49m\u001b[43m,\u001b[49m\u001b[43m \u001b[49m\u001b[38;5;28;43mself\u001b[39;49m\u001b[38;5;241;43m.\u001b[39;49m\u001b[43mdilation\u001b[49m\u001b[43m)\u001b[49m\n",
      "\u001b[0;31mKeyboardInterrupt\u001b[0m: "
     ]
    }
   ],
   "source": [
    "# only run this cell if you have to\n",
    "from torch.utils.data import DataLoader\n",
    "\n",
    "net = supervised_bvae.SupervisedBVAE(z_dim, supervised_out=supervised_dim)\n",
    "net = net.to(device)\n",
    "optimizer = torch.optim.AdamW(net.parameters(), lr=lr)\n",
    "\n",
    "train_dataloader = DataLoader(DatasetWrapper(train, train_meta), batch_size=batch_size, shuffle=True)\n",
    "valid_dataloader = DataLoader(DatasetWrapper(valid, valid_meta), batch_size=batch_size, shuffle=False)\n",
    "\n",
    "num_batches = len(train_dataloader)\n",
    "num_valid_batches = len(valid_dataloader)\n",
    "\n",
    "\n",
    "train_losses, valid_losses = [], []\n",
    "train_supervision_losses = []\n",
    "\n",
    "update_idxs = set([i * (num_batches // updates_per_epoch)\n",
    "    for i in range(1, updates_per_epoch)] + [num_batches])\n",
    "\n",
    "best_valid = 1e9\n",
    "for epoch in range(1, 1+num_epochs):\n",
    "    total_loss = 0.0 \n",
    "    total_supervision_loss = 0.0\n",
    "    pbar = tqdm(train_dataloader, desc=f\"Epoch {epoch}\", leave=True, total=num_batches)\n",
    "    optimizer.zero_grad()\n",
    "    for idx, batch in enumerate(pbar, start=1):\n",
    "        x, latent_supervision = batch\n",
    "        x = x.to(device) # how inefficient is it to stream batches to the device like this? I guess it saves GPU memory\n",
    "\n",
    "        recon, mu, var, _, yhat = net(x)\n",
    "        \n",
    "        supervision_loss, loss = supervised_vae_loss(x, yhat, latent_supervision, mu, var, recon, beta, alpha)\n",
    "\n",
    "        total_loss += loss.item() / gradient_accumulation_steps\n",
    "        total_supervision_loss += supervision_loss.item() / gradient_accumulation_steps\n",
    "        loss = loss / gradient_accumulation_steps\n",
    "        loss.backward()\n",
    "        \n",
    "        \n",
    "        if (idx % gradient_accumulation_steps == 0) or (idx == num_batches):\n",
    "            optimizer.step()\n",
    "            optimizer.zero_grad()\n",
    "\n",
    "        if idx in update_idxs:\n",
    "            avg_valid_loss = 0.0\n",
    "            \n",
    "            displays = []\n",
    "            net.eval()\n",
    "            with torch.no_grad():\n",
    "                for batch in valid_dataloader:\n",
    "                    x, latent_supervision = batch\n",
    "                    recon, mu, var, z, yhat = net(x)\n",
    "                    _, loss = supervised_vae_loss(x, yhat, latent_supervision, mu, var, recon, beta, alpha)\n",
    "                    avg_valid_loss += loss.item() / num_valid_batches\n",
    "                    if not displays:\n",
    "                        net.random_z = tuple(z[0].detach().cpu().numpy())\n",
    "                        displays = [\n",
    "                            (x[0].permute(1, 2, 0).cpu().numpy(), recon[0].permute(1, 2, 0).cpu().numpy()), \n",
    "                            (x[1].permute(1, 2, 0).cpu().numpy(), recon[1].permute(1, 2, 0).cpu().numpy()),\n",
    "                            (x[2].permute(1, 2, 0).cpu().numpy(), recon[2].permute(1, 2, 0).cpu().numpy())\n",
    "                        ]\n",
    "                \n",
    "                if avg_valid_loss < best_valid:\n",
    "                    torch.save(net, f'models/{beta}-supbvae-{z_dim}dim')\n",
    "                    best_valid = avg_valid_loss\n",
    "                    \n",
    "                valid_losses.append(avg_valid_loss)\n",
    "                \n",
    "                if idx == num_batches:\n",
    "                    fig, axes = plt.subplots(3, 2)\n",
    "                    fig.suptitle('Real vs Reconstruction')\n",
    "                    fig.set_size_inches(10, 4)\n",
    "                    for (ax1, ax2), (im1, im2) in zip(axes, displays):\n",
    "                        ax1.imshow(im1)\n",
    "                        ax2.imshow(im2)\n",
    "                    plt.show()\n",
    "            net.train()\n",
    "\n",
    "\n",
    "            pbar.set_description(f\"Epoch {epoch} | train loss {total_loss / idx:.2f}\" + \\\n",
    "                                f\" | valid loss {avg_valid_loss:.2f}\" + f' | supervision loss {total_supervision_loss / idx:.2f}')\n",
    "            train_losses.append(total_loss / idx) \n",
    "            train_supervision_losses.append(total_supervision_loss / idx)"
   ]
  },
  {
   "cell_type": "code",
   "execution_count": 12,
   "metadata": {},
   "outputs": [],
   "source": [
    "module_url = \"https://tfhub.dev/google/universal-sentence-encoder/4\"\n",
    "use_model = hub.load(module_url)\n",
    "\n",
    "#print(use_model('asdf'))\n",
    "#plt.plot(train_losses, label='Train Loss')\n",
    "#plt.plot(valid_losses, label='Valid Loss')\n",
    "#plt.plot(train_supervision_losses, label='Train Supervision Loss')\n",
    "#plt.legend()\n",
    "#plt.savefig('trainplot.png')"
   ]
  },
  {
   "cell_type": "code",
   "execution_count": 29,
   "metadata": {},
   "outputs": [
    {
     "name": "stdout",
     "output_type": "stream",
     "text": [
      "0.74258864\n",
      "1.0\n"
     ]
    },
    {
     "data": {
      "image/png": "[encoded data removed]",
      "text/plain": [
       "<Figure size 800x1000 with 30 Axes>"
      ]
     },
     "metadata": {},
     "output_type": "display_data"
    },
    {
     "data": {
      "text/plain": [
       "<Figure size 640x480 with 0 Axes>"
      ]
     },
     "metadata": {},
     "output_type": "display_data"
    }
   ],
   "source": [
    "import importlib\n",
    "importlib.reload(supervised_bvae)\n",
    "\n",
    "model = torch.load('models/1-supbvae-16dim')\n",
    "model.eval()\n",
    "valid_dataset = DatasetWrapper(valid, valid_meta)\n",
    "displays = []\n",
    "ys = []\n",
    "residuals = []\n",
    "with torch.no_grad():\n",
    "    for sample_idx in range(10):\n",
    "        x, latent_supervision = valid_dataset[sample_idx]\n",
    "        x = x[None,:]\n",
    "        _, next_latent_supervision = valid_dataset[sample_idx+1]\n",
    "        recon, mu, var, z, yhat = model(x)\n",
    "        \n",
    "        ys += [torch.norm(latent_supervision)]\n",
    "        residuals += [torch.norm(latent_supervision - yhat)]\n",
    "        \n",
    "        recon2 = model.forward_with_supervision(x, next_latent_supervision, smoothing=0.01)\n",
    "        displays += [[x[0].permute(1, 2, 0).cpu().numpy(),\n",
    "                       recon[0].permute(1, 2, 0).cpu().numpy(), recon2[0].permute(1, 2, 0).cpu().numpy()]]\n",
    "print(np.mean(residuals))\n",
    "print(np.mean(ys))\n",
    "\n",
    "fig, axes = plt.subplots(10, 3)\n",
    "fig.suptitle('Real vs Reconstruction')\n",
    "fig.set_size_inches(8, 10)\n",
    "for (ax1, ax2, ax3), (im1, im2, im3) in zip(axes, displays):\n",
    "    ax1.imshow(im1)\n",
    "    ax2.imshow(im2)\n",
    "    ax3.imshow(im3)\n",
    "plt.show()\n",
    "plt.savefig('asdf.png')"
   ]
  }
 ],
 "metadata": {
  "kernelspec": {
   "display_name": "Python 3 (ipykernel)",
   "language": "python",
   "name": "python3"
  },
  "language_info": {
   "codemirror_mode": {
    "name": "ipython",
    "version": 3
   },
   "file_extension": ".py",
   "mimetype": "text/x-python",
   "name": "python",
   "nbconvert_exporter": "python",
   "pygments_lexer": "ipython3",
   "version": "3.9.12"
  }
 },
 "nbformat": 4,
 "nbformat_minor": 4
}
